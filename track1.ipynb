{
 "cells": [
  {
   "cell_type": "code",
   "execution_count": 1,
   "metadata": {},
   "outputs": [],
   "source": [
    "import pandas as pd\n",
    "import numpy as np"
   ]
  },
  {
   "cell_type": "code",
   "execution_count": 2,
   "metadata": {},
   "outputs": [],
   "source": [
    "train = pd.read_csv('train.csv', parse_dates=[\"epoch\"])\n",
    "test = pd.read_csv('test.csv', parse_dates=[\"epoch\"])"
   ]
  },
  {
   "cell_type": "code",
   "execution_count": null,
   "metadata": {},
   "outputs": [],
   "source": [
    "data = pd.concat([train, test], axis=0)"
   ]
  },
  {
   "cell_type": "code",
   "execution_count": 4,
   "metadata": {},
   "outputs": [],
   "source": [
    "data['dy'] = data.epoch.dt.dayofyear\n",
    "data['sec_year'] = (data.epoch.dt.dayofyear - 1)*24*60*60 + (data.epoch.dt.hour - 0)*60*60 + (data.epoch.dt.minute - 0)*60 + data.epoch.dt.second"
   ]
  },
  {
   "cell_type": "code",
   "execution_count": 5,
   "metadata": {},
   "outputs": [],
   "source": [
    "FCOLS= [\n",
    "    'sec_year',\n",
    "    'Vx', \n",
    "    'Vy',\n",
    "    'Vz',\n",
    "    'x',\n",
    "    'y',\n",
    "    'z', \n",
    "    'id', \n",
    "    'dy'\n",
    "]"
   ]
  },
  {
   "cell_type": "code",
   "execution_count": null,
   "metadata": {
    "scrolled": true
   },
   "outputs": [],
   "source": [
    "mas_all = []\n",
    "v_cnt = 0\n",
    "for v_sat_id in pd.unique(train.sat_id):   \n",
    "    v_cnt = v_cnt + 1\n",
    "    print(v_cnt)\n",
    "    \n",
    "    mas = data[data.sat_id == v_sat_id][FCOLS].values\n",
    "    v_prev = -1\n",
    "    mas_new = []\n",
    "    j = -1\n",
    "    z = 0\n",
    "    zzz = 0\n",
    "    for i in mas:\n",
    "        if i[8] < 32:\n",
    "            if i[0] != v_prev:\n",
    "                mas_new.append(i)\n",
    "                j = j + 1\n",
    "        else:\n",
    "            if zzz == 0:\n",
    "                znam = int(j/24)\n",
    "                zzz = 1\n",
    "            \n",
    "            j = j + 1\n",
    "            mas_new.append(i)\n",
    "            v_delta = [0, 0, 0, 0, 0, 0]\n",
    "            if i[0] == v_prev:\n",
    "                z = 24\n",
    "                \n",
    "            if z > 0:  \n",
    "                zz = 0\n",
    "                for q in range(49, 73):\n",
    "                    if mas_new[j - q][0] == mas_new[j - q - 1][0]:\n",
    "                        zz = zz + 1\n",
    "                        \n",
    "                for k in range(6):\n",
    "                    v_delta[k] = (mas_new[j - 25][k + 1] - mas_new[j - 73 - zz][k + 1])/2.0\n",
    "\n",
    "                for k in range(1, 7):\n",
    "                    mas_new[j][k] = mas_new[j - 25][k] + v_delta[k - 1]\n",
    "                z = z - 1\n",
    "            else:\n",
    "                zz = 0\n",
    "                for q in range(24, 48):\n",
    "                    if mas_new[j - q][0] == mas_new[j - q - 1][0]:\n",
    "                        zz = zz + 1\n",
    "                for q in range(48 + zz, 72 + zz):\n",
    "                    if mas_new[j - q][0] == mas_new[j - q - 1][0]:\n",
    "                        zz = zz + 1\n",
    "                    \n",
    "                for k in range(6):\n",
    "                    v_delta[k] = (mas_new[j - 24][k + 1] - mas_new[j - 72 - zz][k + 1])/2.0\n",
    "\n",
    "                for k in range(1, 7):\n",
    "                    mas_new[j][k] = mas_new[j - 24][k] + v_delta[k - 1]    \n",
    "                \n",
    "            mas_all.append(mas_new[j])\n",
    "            #print(str(mas_new[j][7]) + \" - \" + str(mas_new[j][4]) + \" - \" + str(v_delta[4]) + \" - \" + str(z))\n",
    "        v_prev = i[0]"
   ]
  },
  {
   "cell_type": "code",
   "execution_count": 28,
   "metadata": {},
   "outputs": [],
   "source": [
    "data_otvet=pd.DataFrame(mas_all, columns = ['sec_year', 'Vx', 'Vy', 'Vz', 'x', 'y', 'z', 'id', 'dy'])"
   ]
  },
  {
   "cell_type": "code",
   "execution_count": 29,
   "metadata": {},
   "outputs": [],
   "source": [
    "data_otvet.id = data_otvet.id.astype(int32)"
   ]
  },
  {
   "cell_type": "code",
   "execution_count": 30,
   "metadata": {},
   "outputs": [],
   "source": [
    "data_otvet[['id', 'x', 'y', 'z', 'Vx', 'Vy', 'Vz']].to_csv('otvet_15.csv', index=False)"
   ]
  }
 ],
 "metadata": {
  "kernelspec": {
   "display_name": "Python 3",
   "language": "python",
   "name": "python3"
  },
  "language_info": {
   "codemirror_mode": {
    "name": "ipython",
    "version": 3
   },
   "file_extension": ".py",
   "mimetype": "text/x-python",
   "name": "python",
   "nbconvert_exporter": "python",
   "pygments_lexer": "ipython3",
   "version": "3.6.4"
  }
 },
 "nbformat": 4,
 "nbformat_minor": 2
}
